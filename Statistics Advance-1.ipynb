{
 "cells": [
  {
   "cell_type": "code",
   "execution_count": null,
   "id": "66fca399-5062-4e30-a2d4-ba65ba3daff4",
   "metadata": {},
   "outputs": [],
   "source": [
    "Q1. What is the Probability density function?\n",
    "Ans:-Probability density function (PDF) is a statistical expression that defines a probability distribution (the likelihood of an outcome) for a discrete random variable (e.g., a stock or ETF) as opposed to a continuous random variable."
   ]
  },
  {
   "cell_type": "code",
   "execution_count": null,
   "id": "53bf3b13-3c6d-4a0b-a2cf-542a5b6397c0",
   "metadata": {},
   "outputs": [],
   "source": [
    "Q2. What are the types of Probability distribution?\n",
    "Ans:-There are two types of probability distributions: Discrete probability distributions. Continuous probability distributions"
   ]
  },
  {
   "cell_type": "code",
   "execution_count": null,
   "id": "4dd495e8-adbf-4063-b7ed-5459cc39ccac",
   "metadata": {},
   "outputs": [],
   "source": [
    "Q3. Write a Python function to calculate the probability density function of a normal distribution with \n",
    "given mean and standard deviation at a given point"
   ]
  },
  {
   "cell_type": "code",
   "execution_count": 1,
   "id": "fff44ef7-1c68-45f3-9698-22c17abae552",
   "metadata": {},
   "outputs": [],
   "source": [
    "from scipy.stats import norm\n",
    "\n",
    "def normal_pdf(mu, sigma, x):\n",
    "    pdf = norm.pdf(x, loc=mu, scale=sigma)\n",
    "    return pdf\n"
   ]
  },
  {
   "cell_type": "code",
   "execution_count": 4,
   "id": "2bbd9906-80a3-4797-ab2e-cc9c149d7db2",
   "metadata": {},
   "outputs": [
    {
     "data": {
      "text/plain": [
       "0.24197072451914337"
      ]
     },
     "execution_count": 4,
     "metadata": {},
     "output_type": "execute_result"
    }
   ],
   "source": [
    "normal_pdf(0, 1, 1)\n"
   ]
  },
  {
   "cell_type": "code",
   "execution_count": null,
   "id": "bfb3d4ba-1313-4aea-a044-2a5fb6a6492d",
   "metadata": {},
   "outputs": [],
   "source": [
    "Q4. What are the properties of Binomial distribution? Give two examples of events where binomial \n",
    "distribution can be applied\n",
    "Ans:-The binomial distribution is a probability distribution that describes the number of successes in a fixed number of independent Bernoulli trials, where each trial has only two possible outcomes: success or failure. Some of the important properties of the binomial distribution include:\n",
    "\n",
    "Fixed number of trials: The binomial distribution is defined over a fixed number of independent trials, denoted by n.\n",
    "\n",
    "Two possible outcomes: Each trial can have only two possible outcomes: success or failure.\n",
    "\n",
    "Independent trials: The trials must be independent of each other, meaning that the outcome of one trial does not affect the outcome of the others.\n",
    "\n",
    "Constant probability of success: The probability of success, denoted by p, is constant for each trial. The probability of failure is therefore 1-p.\n",
    "\n",
    "Discrete probability distribution: The binomial distribution is a discrete probability distribution, meaning that it gives the probability of each possible number of successes.\n",
    "\n",
    "Two examples of events where the binomial distribution can be applied are:\n",
    "\n",
    "Flipping a coin: Suppose you flip a fair coin 10 times and want to know the probability of getting exactly 5 heads. This is an example of a binomial distribution with n=10 (fixed number of trials) and p=0.5 (constant probability of success).\n",
    "\n",
    "Quality control: A company produces a batch of 1000 light bulbs, and wants to know the probability that no more than 100 of them are defective. Assuming that each light bulb has a 5% chance of being defective, this is an example of a binomial distribution with n=1000 (fixed number of trials) and p=0.05 (constant probability of success).\n",
    "\n",
    "\n",
    "\n"
   ]
  },
  {
   "cell_type": "code",
   "execution_count": null,
   "id": "8358cfcc-666e-4db1-9eae-cdc495b1c55a",
   "metadata": {},
   "outputs": [],
   "source": [
    "Q5. Generate a random sample of size 1000 from a binomial distribution with probability of success 0.4 \n",
    "and plot a histogram of the results using matplotlib"
   ]
  },
  {
   "cell_type": "code",
   "execution_count": 5,
   "id": "8a94446e-c98c-49f3-ac20-c608a1ac620c",
   "metadata": {},
   "outputs": [
    {
     "data": {
      "image/png": "[encoded data removed]",
      "text/plain": [
       "<Figure size 640x480 with 1 Axes>"
      ]
     },
     "metadata": {},
     "output_type": "display_data"
    }
   ],
   "source": [
    "import numpy as np\n",
    "import matplotlib.pyplot as plt\n",
    "\n",
    "# Set the parameters for the binomial distribution\n",
    "n = 100\n",
    "p = 0.4\n",
    "\n",
    "# Generate a random sample of size 1000 from the binomial distribution\n",
    "sample = np.random.binomial(n, p, size=1000)\n",
    "\n",
    "# Plot a histogram of the results\n",
    "plt.hist(sample, bins=range(n+2))\n",
    "plt.xlabel('Number of successes')\n",
    "plt.ylabel('Frequency')\n",
    "plt.title('Binomial Distribution with n=100, p=0.4')\n",
    "plt.show()\n"
   ]
  },
  {
   "cell_type": "code",
   "execution_count": null,
   "id": "a87f545f-ec90-4d57-9d40-d81da40bbb37",
   "metadata": {},
   "outputs": [],
   "source": [
    "Q6. Write a Python function to calculate the cumulative distribution function of a Poisson distribution \n",
    "with given mean at a given point."
   ]
  },
  {
   "cell_type": "code",
   "execution_count": 6,
   "id": "a42162a8-1a23-4916-9eee-4319d9d4fe03",
   "metadata": {},
   "outputs": [
    {
     "data": {
      "text/plain": [
       "0.857123460498547"
      ]
     },
     "execution_count": 6,
     "metadata": {},
     "output_type": "execute_result"
    }
   ],
   "source": [
    "from scipy.stats import poisson\n",
    "\n",
    "def poisson_cdf(mu, x):\n",
    "    cdf = poisson.cdf(x, mu)\n",
    "    return cdf\n",
    "poisson_cdf(2, 3)\n",
    "\n"
   ]
  },
  {
   "cell_type": "code",
   "execution_count": null,
   "id": "0b6913ec-27b9-44a9-aa31-68c2dc6633c3",
   "metadata": {},
   "outputs": [],
   "source": [
    "Q7. How Binomial distribution different from Poisson distribution?\n",
    "Ans:-The Binomial distribution and the Poisson distribution are both probability distributions used in statistical analysis. Here are some of the key differences between them:\n",
    "\n",
    "Number of trials: The Binomial distribution is used to model the number of successes in a fixed number of independent trials, while the Poisson distribution is used to model the number of events occurring in a fixed unit of time or space.\n",
    "\n",
    "Probability of success: In the Binomial distribution, the probability of success in each trial is constant and denoted by p, while in the Poisson distribution, the parameter lambda represents the average number of events that occur in a given time or space.\n",
    "\n",
    "Type of events: The Binomial distribution is used for events with two possible outcomes, such as success or failure, while the Poisson distribution is used for events that occur at random and independently of each other, such as the number of customers arriving at a store in a given time period.\n",
    "\n",
    "Continuous vs. Discrete: The Poisson distribution is a discrete probability distribution, meaning it can only take on integer values, while the Binomial distribution can take on discrete values (number of successes) but is often approximated as continuous for large n.\n",
    "\n",
    "Conditions: The Binomial distribution is appropriate when each trial is independent, the probability of success is constant across trials, and the sample size is fixed. The Poisson distribution is appropriate when events occur independently and at a constant rate in a fixed time or space interval.\n",
    "\n",
    "Mean and variance: In the Binomial distribution, the mean is np and the variance is np*(1-p), while in the Poisson distribution, both the mean and the variance are lambda.\n",
    "\n",
    "In summary, the Binomial distribution is used for discrete events with two possible outcomes, while the Poisson distribution is used for discrete events that occur randomly and independently of each other, and it models the number of events occurring in a fixed time or space interval."
   ]
  },
  {
   "cell_type": "code",
   "execution_count": null,
   "id": "34c5a203-bd43-4574-853e-6bba72934adf",
   "metadata": {},
   "outputs": [],
   "source": [
    "Q8. Generate a random sample of size 1000 from a Poisson distribution with mean 5 and calculate the \n",
    "sample mean and variance"
   ]
  },
  {
   "cell_type": "code",
   "execution_count": 7,
   "id": "c6fb4b86-cc9d-45bd-b726-0f63d7e4f71d",
   "metadata": {},
   "outputs": [
    {
     "name": "stdout",
     "output_type": "stream",
     "text": [
      "Sample mean: 4.978\n",
      "Sample variance: 4.909516\n"
     ]
    }
   ],
   "source": [
    "import numpy as np\n",
    "\n",
    "# Set the parameters for the Poisson distribution\n",
    "mu = 5\n",
    "\n",
    "# Generate a random sample of size 1000 from the Poisson distribution\n",
    "sample = np.random.poisson(mu, size=1000)\n",
    "\n",
    "# Calculate the sample mean and variance\n",
    "sample_mean = np.mean(sample)\n",
    "sample_var = np.var(sample)\n",
    "\n",
    "# Print the results\n",
    "print(\"Sample mean:\", sample_mean)\n",
    "print(\"Sample variance:\", sample_var)\n"
   ]
  },
  {
   "cell_type": "code",
   "execution_count": null,
   "id": "17ac47bf-c9a1-4398-8b8f-0c7ab45187fd",
   "metadata": {},
   "outputs": [],
   "source": [
    "Q9. How mean and variance are related in Binomial distribution and Poisson distribution?\n",
    "Ans:-In the Binomial distribution, the mean is equal to n * p, where n is the number of trials and p is the probability of success in each trial. The variance is equal to n * p * (1 - p).\n",
    "\n",
    "In the Poisson distribution, the mean and variance are both equal to lambda, where lambda is the expected number of events in a given interval or region.\n",
    "\n",
    "For both the Binomial and Poisson distributions, the variance increases as the mean increases. This is because a higher mean implies a greater spread of possible outcomes, which results in a larger variance.\n",
    "\n",
    "In the Binomial distribution, the relationship between the mean and variance is more complex because it depends on the value of the probability of success p. If p is close to 0 or 1, the variance will be relatively small compared to the mean. However, as p approaches 0.5, the variance will increase and become closer to the mean.\n",
    "\n",
    "In the Poisson distribution, the mean and variance are always equal to each other, regardless of the value of lambda. This means that the spread of possible outcomes is always the same relative to the mean, which makes the Poisson distribution useful for modeling events that occur at a constant rate or intensity."
   ]
  },
  {
   "cell_type": "code",
   "execution_count": null,
   "id": "a4f6c674-b5f3-472c-9018-c139b15c907d",
   "metadata": {},
   "outputs": [],
   "source": [
    "Q10. In normal distribution with respect to mean position, where does the least frequent data appear?\n",
    "Ans:-In a normal distribution, the least frequent data appears in the tails of the distribution, which are the regions located furthest from the mean. This is because the probability density function of a normal distribution is highest at the mean and decreases symmetrically as you move away from the mean in either direction.\n",
    "\n",
    "Specifically, data points that are located more than two standard deviations from the mean are considered to be outliers and are relatively rare in a normal distribution. In fact, only about 5% of data points are expected to fall outside of this range in a standard normal distribution (i.e., a normal distribution with mean = 0 and standard deviation = 1).\n",
    "\n",
    "Therefore, the least frequent data in a normal distribution will appear in the tails of the distribution, which are located at the extreme ends of the range of values.\n",
    "\n",
    "\n",
    "\n"
   ]
  }
 ],
 "metadata": {
  "kernelspec": {
   "display_name": "Python 3 (ipykernel)",
   "language": "python",
   "name": "python3"
  },
  "language_info": {
   "codemirror_mode": {
    "name": "ipython",
    "version": 3
   },
   "file_extension": ".py",
   "mimetype": "text/x-python",
   "name": "python",
   "nbconvert_exporter": "python",
   "pygments_lexer": "ipython3",
   "version": "3.10.8"
  }
 },
 "nbformat": 4,
 "nbformat_minor": 5
}
